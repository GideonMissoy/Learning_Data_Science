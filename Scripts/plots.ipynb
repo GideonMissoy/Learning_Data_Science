{
 "cells": [
  {
   "cell_type": "markdown",
   "metadata": {},
   "source": [
    "Create a horizontal bar chart. [From a DataFrame]"
   ]
  },
  {
   "cell_type": "code",
   "execution_count": null,
   "metadata": {},
   "outputs": [],
   "source": [
    "# Create horizontal bar chart\n",
    "fig = px.bar(\n",
    "    data_frame=df_nationality.tail(10),\n",
    "    x='count',\n",
    "    y='country_name',\n",
    "    orientation='h',\n",
    "    title='DS Applicants Nationality'\n",
    ")\n",
    "# Set axis labels\n",
    "fig.update_layout(xaxis_title='Frequency [count]', yaxis_title='Country')\n",
    "fig.show()"
   ]
  },
  {
   "cell_type": "markdown",
   "metadata": {},
   "source": [
    "Create a horizontal bar chart [From a series]"
   ]
  },
  {
   "cell_type": "code",
   "execution_count": null,
   "metadata": {},
   "outputs": [],
   "source": [
    "def build_ed_bar():\n",
    "    # Create bar chart\n",
    "    fig = px.bar(\n",
    "        x=education,\n",
    "        y=education.index,\n",
    "        orientation='h',\n",
    "        title='DS Applicants Education Levels'\n",
    "    )\n",
    "    # Add axis labels\n",
    "    fig.update_layout(xaxis_title='Frequency [counts]', yaxis_title='Highest Degree Earned')\n",
    "\n",
    "    return fig\n",
    "\n",
    "\n",
    "ed_fig = build_ed_bar()\n",
    "print(\"ed_fig type:\", type(ed_fig))\n",
    "ed_fig.show()"
   ]
  },
  {
   "cell_type": "markdown",
   "metadata": {},
   "source": [
    "Create a function build_nat_choropleth"
   ]
  },
  {
   "cell_type": "code",
   "execution_count": null,
   "metadata": {},
   "outputs": [],
   "source": [
    "def build_nat_choropleth():\n",
    "    fig = px.choropleth(\n",
    "        data_frame=df_nationality,\n",
    "        locations='country_iso3',\n",
    "        color='count',\n",
    "        projection='natural earth',\n",
    "        color_continuous_scale=px.colors.sequential.Oranges,\n",
    "        title='DS Applicants: Nationality'\n",
    "    )\n",
    "    return fig\n",
    "\n",
    "\n",
    "nat_fig = build_nat_choropleth()\n",
    "print(\"nat_fig type:\", type(nat_fig))\n",
    "nat_fig.show()"
   ]
  }
 ],
 "metadata": {
  "language_info": {
   "name": "python"
  }
 },
 "nbformat": 4,
 "nbformat_minor": 2
}
