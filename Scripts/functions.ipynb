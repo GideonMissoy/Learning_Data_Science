{
 "cells": [
  {
   "cell_type": "markdown",
   "metadata": {},
   "source": [
    "Sort function:"
   ]
  },
  {
   "cell_type": "code",
   "execution_count": null,
   "metadata": {},
   "outputs": [],
   "source": [
    "def ed_sort(counts):\n",
    "    \"\"\"Sort array `counts` from highest to lowest degree earned.\"\"\"\n",
    "    degrees = [\n",
    "        \"High School or Baccalaureate\",\n",
    "        \"Some College (1-3 years)\",\n",
    "        \"Bachelor's degree\",\n",
    "        \"Master's degree\",\n",
    "        \"Doctorate (e.g. PhD)\",\n",
    "    ]\n",
    "    mapping = {k: v for v, k in enumerate(degrees)}\n",
    "    sort_order = [mapping[c] for c in counts]\n",
    "    return sort_order\n",
    "\n",
    "\n",
    "education.sort_index(key=ed_sort, inplace=True)\n",
    "education"
   ]
  }
 ],
 "metadata": {
  "language_info": {
   "name": "python"
  }
 },
 "nbformat": 4,
 "nbformat_minor": 2
}
