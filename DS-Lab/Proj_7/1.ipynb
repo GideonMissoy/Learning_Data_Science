{
 "cells": [
  {
   "cell_type": "markdown",
   "metadata": {},
   "source": [
    "7.1. Meet the DS Lab Applicants\n",
    "\n",
    "When you decided to start down the path to becoming a data scientist at WQU, the first thing you did was to register an account with us. Then you took our admissions exam test, and began your data science journey! But not everyone who creates an account takes the admissions exam. Is there a way to improve that completion rate?\n",
    "\n",
    "In this project, you'll help run an experiment to see if sending a reminder email to applicants can increase the likelihood that they'll complete the admissions exam. This type of experiment is called a hypothesis test or an A/B test.\n",
    "\n",
    "In this lesson, we'll try to get a better sense of what kind of people sign up for Applied Data Science Lab — where they're from, how old are they, what have they previously studied, and more."
   ]
  },
  {
   "cell_type": "code",
   "execution_count": null,
   "metadata": {},
   "outputs": [],
   "source": [
    "from pprint import PrettyPrinter\n",
    "\n",
    "import pandas as pd\n",
    "import plotly.express as px\n",
    "from country_converter import CountryConverter\n",
    "from IPython.display import VimeoVideo\n",
    "from pymongo import MongoClient"
   ]
  },
  {
   "cell_type": "markdown",
   "metadata": {},
   "source": [
    "The DS Lab student data is stored in a MongoDB database. So we'll start the lesson by creating a `PrettyPrinter`, and connecting to the right database and collection."
   ]
  },
  {
   "cell_type": "code",
   "execution_count": null,
   "metadata": {},
   "outputs": [],
   "source": [
    "pp = PrettyPrinter(indent=2)\n",
    "print(\"pp type:\", type(pp))"
   ]
  },
  {
   "cell_type": "markdown",
   "metadata": {},
   "source": [
    "Next up, let's connect to the MongoDB server.\n",
    "\n",
    "Create a client that connects to the database running at localhost on port 27017"
   ]
  },
  {
   "cell_type": "code",
   "execution_count": null,
   "metadata": {},
   "outputs": [],
   "source": [
    "client = MongoClient(host=\"localhost\", port=27017)\n",
    "print(\"client type:\", type(client))"
   ]
  },
  {
   "cell_type": "markdown",
   "metadata": {},
   "source": [
    "Let's take a look at the databases that are available to us.\n",
    "\n",
    "Print a list of the databases available on client."
   ]
  },
  {
   "cell_type": "code",
   "execution_count": null,
   "metadata": {},
   "outputs": [],
   "source": [
    "pp.pprint(list(client.list_databases()))"
   ]
  },
  {
   "cell_type": "markdown",
   "metadata": {},
   "source": [
    "Assign the \"ds-applicants\" collection in the \"wqu-abtest\" database to the variable name ds_app"
   ]
  },
  {
   "cell_type": "code",
   "execution_count": null,
   "metadata": {},
   "outputs": [],
   "source": [
    "db = client['wqu-abtest']\n",
    "ds_app = db['ds-applicants']\n",
    "print(\"ds_app type:\", type(ds_app))"
   ]
  },
  {
   "cell_type": "markdown",
   "metadata": {},
   "source": [
    "Let's take a look at what we've got. First, let's find out how many applicants are currently in our collection.\n",
    "\n",
    "Use the count_documents method to see how many documents are in the ds_app collection."
   ]
  },
  {
   "cell_type": "code",
   "execution_count": null,
   "metadata": {},
   "outputs": [],
   "source": [
    "# Count documents in `ds_app`\n",
    "n_documents = ds_app.count_documents({})"
   ]
  },
  {
   "cell_type": "markdown",
   "metadata": {},
   "source": [
    "Use the find_one method to retrieve one document from the ds_app collection and assign it to the variable name result."
   ]
  },
  {
   "cell_type": "code",
   "execution_count": null,
   "metadata": {},
   "outputs": [],
   "source": [
    "result = ds_app.find_one({})\n",
    "print(\"result type:\", type(result))\n",
    "pp.pprint(result)"
   ]
  },
  {
   "cell_type": "markdown",
   "metadata": {},
   "source": [
    "**THE RETURNED DOCUMENT**"
   ]
  },
  {
   "cell_type": "code",
   "execution_count": null,
   "metadata": {},
   "outputs": [],
   "source": [
    "result type: <class 'dict'>\n",
    "{ '_id': ObjectId('6525d787953844722c8383f8'),\n",
    "  'admissionsQuiz': 'incomplete',\n",
    "  'birthday': datetime.datetime(1998, 4, 29, 0, 0),\n",
    "  'countryISO2': 'GB',\n",
    "  'createdAt': datetime.datetime(2022, 5, 13, 15, 2, 44),\n",
    "  'email': 'terry.hassler28@yahow.com',\n",
    "  'firstName': 'Terry',\n",
    "  'gender': 'male',\n",
    "  'highestDegreeEarned': \"Bachelor's degree\",\n",
    "  'lastName': 'Hassler'}"
   ]
  },
  {
   "cell_type": "markdown",
   "metadata": {},
   "source": [
    "Let's start the analysis. One of the possibilities in each record is the country of origin. We already know WQU is a pretty diverse place, but we can figure out just how diverse it is by seeing where applicants are coming from.\n",
    "\n",
    "First, we'll perform an aggregation to count countries.\n",
    "Use the aggregate method to calculate how many applicants there are from each country."
   ]
  },
  {
   "cell_type": "code",
   "execution_count": null,
   "metadata": {},
   "outputs": [],
   "source": [
    "result = ds_app.aggregate(\n",
    "    [\n",
    "        {\n",
    "            '$group': {'_id': '$countryISO2', 'count': {'$count': {}}}\n",
    "        }\n",
    "    ]\n",
    ")"
   ]
  },
  {
   "cell_type": "markdown",
   "metadata": {},
   "source": [
    "Put your results from the previous task into a DataFrame named df_nationality. Your DataFrame should have two columns: \"country_iso2\" and \"count\". It should be sorted from the smallest to the largest value of \"count\"."
   ]
  },
  {
   "cell_type": "code",
   "execution_count": null,
   "metadata": {},
   "outputs": [],
   "source": [
    "df_nationality = pd.DataFrame(result).rename({'_id': 'country_iso2'}, axis='columns').sort_values('count')\n",
    "\n",
    "print(\"df_nationality type:\", type(df_nationality))\n",
    "print(\"df_nationality shape\", df_nationality.shape)"
   ]
  },
  {
   "cell_type": "markdown",
   "metadata": {},
   "source": [
    "Now we have the countries, but they're represented using the ISO 3166-1 alpha-2 standard, where each country has a two-letter code. It'll be much easier to interpret our data if we have the full country name, so we'll need to do some data enrichment using country converter library.\n",
    "\n",
    "Since country_converter is an open-source library, there are several things to think about before we can bring it into our project. The first thing we need to do is figure out if we're even allowed to use the library for the kind of project we're working on by taking a look at the library's license. country_converter has a GNU General Public License, so there are no worries there.\n",
    "\n",
    "Second, we need to make sure the software is being actively maintained. If the last time anybody changed the library was back in 2014, we're probably going to run into some problems when we try to use it. country_converter's last update is very recent, so we aren't going to have any trouble there either.\n",
    "\n",
    "Third, we need to see what kinds of quality-control measures are in place. Even if the library was updated five minutes ago and includes a license that gives us permission to do whatever we want, it's going to be entirely useless if it's full of mistakes. Happily, country_converter's testing coverage and build badges look excellent, so we're good to go there as well.\n",
    "\n",
    "The last thing we need to do is make sure the library will do the things we need it to do by looking at its documentation. country_converter's documentation is very thorough, so if we run into any problems, we'll almost certainly be able to figure out what went wrong.\n",
    "\n",
    "country_converter looks good across all those dimensions, so let's put it to work!"
   ]
  },
  {
   "cell_type": "markdown",
   "metadata": {},
   "source": [
    "Instantiate a CountryConverter object named cc, and then use it to add a \"country_name\" column to the DataFrame df_nationality."
   ]
  },
  {
   "cell_type": "code",
   "execution_count": null,
   "metadata": {},
   "outputs": [],
   "source": [
    "cc = CountryConverter()\n",
    "df_nationality[\"country_name\"] = cc.convert(\n",
    "    df_nationality['country_iso2'], to='name_short'\n",
    ")\n",
    "\n",
    "print(\"df_nationality shape:\", df_nationality.shape)\n",
    "df_nationality.head()"
   ]
  },
  {
   "cell_type": "markdown",
   "metadata": {},
   "source": [
    "Create a horizontal bar chart of the 10 countries with the largest representation in df_nationality. Be sure to label your x-axis \"Frequency [count]\", your y-axis \"Country\", and use the title \"DS Applicants by Country\"."
   ]
  },
  {
   "cell_type": "code",
   "execution_count": null,
   "metadata": {},
   "outputs": [],
   "source": [
    "# Create horizontal bar chart\n",
    "fig = px.bar(\n",
    "    data_frame=df_nationality.tail(10),\n",
    "    x='count',\n",
    "    y='country_name',\n",
    "    orientation='h',\n",
    "    title='DS Applicants Nationality'\n",
    ")\n",
    "# Set axis labels\n",
    "fig.update_layout(xaxis_title='Frequency [count]', yaxis_title='Country')\n",
    "fig.show()"
   ]
  },
  {
   "cell_type": "markdown",
   "metadata": {},
   "source": [
    "Create a \"count_pct\" column for df_nationality that shows the proportion of applicants from each country."
   ]
  },
  {
   "cell_type": "code",
   "execution_count": null,
   "metadata": {},
   "outputs": [],
   "source": [
    "df_nationality[\"count_pct\"] = (df_nationality['count'] / df_nationality['count'].sum()) * 100\n",
    "\n",
    "print(\"df_nationality shape:\", df_nationality.shape)\n",
    "df_nationality.tail()"
   ]
  },
  {
   "cell_type": "markdown",
   "metadata": {},
   "source": [
    "Recreate your horizontal bar chart of the 10 countries with the largest representation in df_nationality, this time with the percentages. Be sure to label your x-axis \"Frequency [%]\", your y-axis \"Country\", and use the title \"DS Applicants by Country\"."
   ]
  },
  {
   "cell_type": "code",
   "execution_count": null,
   "metadata": {},
   "outputs": [],
   "source": [
    "# Create horizontal bar chart\n",
    "fig = px.bar(\n",
    "    data_frame=df_nationality.tail(10),\n",
    "    x='count_pct',\n",
    "    y='country_name',\n",
    "    orientation='h',\n",
    "    title='DS Applicants by Country'\n",
    ")\n",
    "fig.update_layout(xaxis_title='Frequency [%]', yaxis_title='Country')\n",
    "# Set axis labels\n",
    "\n",
    "fig.show()"
   ]
  },
  {
   "cell_type": "markdown",
   "metadata": {},
   "source": [
    "Add a column named \"country_iso3\" to df_nationality. It should contain the 3-letter ISO abbreviation for each country in \"country_iso2\"."
   ]
  },
  {
   "cell_type": "code",
   "execution_count": null,
   "metadata": {},
   "outputs": [],
   "source": [
    "df_nationality[\"country_iso3\"] = cc.convert(df_nationality['country_iso2'], to='ISO3')\n",
    "\n",
    "print(\"df_nationality shape:\", df_nationality.shape)\n",
    "df_nationality.head()"
   ]
  },
  {
   "cell_type": "markdown",
   "metadata": {},
   "source": [
    "Create a function build_nat_choropleth that returns plotly choropleth map showing the \"count\" of DS applicants in each country in the globe. Be sure to set your projection to \"natural earth\", and color_continuous_scale to px.colors.sequential.Oranges."
   ]
  },
  {
   "cell_type": "code",
   "execution_count": null,
   "metadata": {},
   "outputs": [],
   "source": [
    "def build_nat_choropleth():\n",
    "    fig = px.choropleth(\n",
    "        data_frame=df_nationality,\n",
    "        locations='country_iso3',\n",
    "        color='count',\n",
    "        projection='natural earth',\n",
    "        color_continuous_scale=px.colors.sequential.Oranges,\n",
    "        title='DS Applicants: Nationality'\n",
    "    )\n",
    "    return fig\n",
    "\n",
    "\n",
    "nat_fig = build_nat_choropleth()\n",
    "print(\"nat_fig type:\", type(nat_fig))\n",
    "nat_fig.show()"
   ]
  },
  {
   "cell_type": "markdown",
   "metadata": {},
   "source": [
    "Age\n",
    "Now that we know where the applicants are from, let's see what else we can learn. For instance, how old are DS Lab applicants? We know the birthday of all our applicants, but we'll need to perform another aggregation to calculate their ages. We'll use the \"$birthday\" field and the \"$$NOW\" variable.\n",
    "\n",
    "Use the aggregate method to calculate the age for each of the applicants in ds_app. Store the results in result."
   ]
  },
  {
   "cell_type": "code",
   "execution_count": null,
   "metadata": {},
   "outputs": [],
   "source": [
    "result = ds_app.aggregate(\n",
    "    [\n",
    "        {\n",
    "            '$project': {\n",
    "                'years': {\n",
    "                          '$dateDiff': {\n",
    "                              'startDate': '$birthday',\n",
    "                              'endDate': '$$NOW',\n",
    "                              'unit': 'year'\n",
    "                          }\n",
    "                }\n",
    "            }\n",
    "            \n",
    "        }\n",
    "    ]\n",
    ")\n"
   ]
  },
  {
   "cell_type": "markdown",
   "metadata": {},
   "source": [
    "Read your result from the previous task into a DataFrame, and create a Series called ages."
   ]
  },
  {
   "cell_type": "code",
   "execution_count": null,
   "metadata": {},
   "outputs": [],
   "source": [
    "ages = pd.DataFrame(result)['years']\n",
    "\n",
    "print(\"ages type:\", type(ages))\n",
    "print(\"ages shape:\", ages.shape)\n",
    "ages.head()"
   ]
  },
  {
   "cell_type": "markdown",
   "metadata": {},
   "source": [
    "plot a histogram to show the distribution of ages.\n",
    "\n",
    "Create function build_age_hist that returns a plotly histogram of ages. Be sure to label your x-axis \"Age\", your y-axis \"Frequency [count]\", and use the title \"Distribution of DS Applicant Ages\"."
   ]
  },
  {
   "cell_type": "code",
   "execution_count": null,
   "metadata": {},
   "outputs": [],
   "source": [
    "def build_age_hist():\n",
    "    # Create histogram of `ages`\n",
    "    fig = px.histogram(x=ages, nbins=20, title='DS Applicants: Distribution of Ages')\n",
    "    # Set axis labels\n",
    "    fig.update_layout(xaxis_title='Age', yaxis_title='Frequency [counts]')\n",
    "    return fig\n",
    "\n",
    "\n",
    "age_fig = build_age_hist()\n",
    "print(\"age_fig type:\", type(age_fig))\n",
    "age_fig.show()"
   ]
  },
  {
   "cell_type": "markdown",
   "metadata": {},
   "source": [
    "Education\n",
    "Okay, there's one more attribute left for us to explore: educational attainment. Which degrees do our applicants have? First, let's count the number of applicants in each category...\n",
    "\n",
    "Use the aggregate method to calculate value counts for highest degree earned in ds_app."
   ]
  },
  {
   "cell_type": "code",
   "execution_count": null,
   "metadata": {},
   "outputs": [],
   "source": [
    "result = ds_app.aggregate(\n",
    "    [\n",
    "        {\n",
    "            '$group': {\n",
    "                '_id': '$highestDegreeEarned',\n",
    "                'count': {'$count': {}}\n",
    "            }\n",
    "        }\n",
    "    ]\n",
    ")\n",
    "\n",
    "\n",
    "print(\"result type:\", type(result))"
   ]
  },
  {
   "cell_type": "markdown",
   "metadata": {},
   "source": [
    "Read your result from the previous task into a Series education."
   ]
  },
  {
   "cell_type": "code",
   "execution_count": null,
   "metadata": {},
   "outputs": [],
   "source": [
    "education = pd.DataFrame(result).rename({'_id': 'highest_degree_earned'}, axis='columns').set_index('highest_degree_earned').squeeze()\n",
    "\n",
    "print(\"education type:\", type(education))\n",
    "print(\"education shape:\", education.shape)\n",
    "education.head()"
   ]
  },
  {
   "cell_type": "markdown",
   "metadata": {},
   "source": [
    "We need to sort these categories more logically. Since we're talking about the highest level of education our applicants have, we need to sort the categories hierarchically rather than alphabetically or numerically. The order should be: \"High School or Baccalaureate\", \"Some College (1-3 years)\", \"Bachelor's Degree\", \"Master's Degree\", and \"Doctorate (e.g. PhD)\". Let's do that with a function."
   ]
  },
  {
   "cell_type": "code",
   "execution_count": null,
   "metadata": {},
   "outputs": [],
   "source": [
    "def ed_sort(counts):\n",
    "    \"\"\"Sort array `counts` from highest to lowest degree earned.\"\"\"\n",
    "    degrees = [\n",
    "        \"High School or Baccalaureate\",\n",
    "        \"Some College (1-3 years)\",\n",
    "        \"Bachelor's degree\",\n",
    "        \"Master's degree\",\n",
    "        \"Doctorate (e.g. PhD)\",\n",
    "    ]\n",
    "    mapping = {k: v for v, k in enumerate(degrees)}\n",
    "    sort_order = [mapping[c] for c in counts]\n",
    "    return sort_order\n",
    "\n",
    "\n",
    "education.sort_index(key=ed_sort, inplace=True)\n",
    "education"
   ]
  },
  {
   "cell_type": "markdown",
   "metadata": {},
   "source": [
    "Create a function build_ed_bar that returns a plotly horizontal bar chart of education. Be sure to label your x-axis \"Frequency [count]\", y-axis \"Highest Degree Earned\", and use the title \"DS Applicant Education Levels\"."
   ]
  },
  {
   "cell_type": "code",
   "execution_count": null,
   "metadata": {},
   "outputs": [],
   "source": [
    "def build_ed_bar():\n",
    "    # Create bar chart\n",
    "    fig = px.bar(\n",
    "        x=education,\n",
    "        y=education.index,\n",
    "        orientation='h',\n",
    "        title='DS Applicants Education Levels'\n",
    "    )\n",
    "    # Add axis labels\n",
    "    fig.update_layout(xaxis_title='Frequency [counts]', yaxis_title='Highest Degree Earned')\n",
    "\n",
    "    return fig\n",
    "\n",
    "\n",
    "ed_fig = build_ed_bar()\n",
    "print(\"ed_fig type:\", type(ed_fig))\n",
    "ed_fig.show()"
   ]
  }
 ],
 "metadata": {
  "language_info": {
   "name": "python"
  }
 },
 "nbformat": 4,
 "nbformat_minor": 2
}
