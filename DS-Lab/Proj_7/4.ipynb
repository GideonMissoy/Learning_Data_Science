{
 "cells": [
  {
   "cell_type": "markdown",
   "metadata": {},
   "source": [
    "**7.4. Experiment Web Application**\n",
    "\n",
    "During this project, you've made informative data visualizations, built helpful Python classes, and conducted statistical analyses. In this lesson, you're going to combine all of those elements into a single, interactive web application.\n",
    "\n",
    "This web application will be similar to the one you built in Project 6 because it will also have a three-tier architecture. But instead of writing our code in a notebook, this time we'll use .py files, like we did in Project 5.\n",
    "\n",
    "This notebook has the instructions and videos for the tasks you need to complete. You'll also launch your application from here. But all the coding will be in the files: display.py, business.py, and database.py.WQU WorldQuant University Applied Data Science Lab QQQQ"
   ]
  },
  {
   "cell_type": "code",
   "execution_count": null,
   "metadata": {},
   "outputs": [],
   "source": [
    "# Every time you want to refresh your app,\n",
    "# restart your kernel and rerun these TWO cells\n",
    "from jupyter_dash.comms import _send_jupyter_config_comm_request\n",
    "\n",
    "_send_jupyter_config_comm_request()"
   ]
  },
  {
   "cell_type": "code",
   "execution_count": null,
   "metadata": {},
   "outputs": [],
   "source": [
    "# Import `app` object from `display.py` module\n",
    "from display import app\n",
    "from jupyter_dash import JupyterDash  # noQA F401\n",
    "\n",
    "JupyterDash.infer_jupyter_proxy_config()\n",
    "\n",
    "# Start app server\n",
    "app.run_server(host=\"0.0.0.0\", mode=\"external\")"
   ]
  },
  {
   "cell_type": "markdown",
   "metadata": {},
   "source": [
    "**Application Layout**\n",
    "\n",
    "We're going to build our application using a three-tier architecture. The three .py files — or modules — represent the three layers of our application. We'll start with our display layer, where we'll keep all the elements that our user will see and interact with."
   ]
  },
  {
   "cell_type": "markdown",
   "metadata": {},
   "source": [
    "**Task 7.4.1:**   In the display module, instantiate a JupyterDash application named app. Then begin building its layout by adding three H1 headers with the titles: \"Applicant Demographics\", \"Experiment\", and \"Results\"."
   ]
  },
  {
   "cell_type": "markdown",
   "metadata": {},
   "source": [
    "**Demographic Charts**\n",
    "\n",
    "The first element in our application is the \"Applicant Demographics\" section. We'll start by building a drop-down menu that will allow the user to select which visualization they want to see."
   ]
  },
  {
   "cell_type": "markdown",
   "metadata": {},
   "source": [
    "**Task 7.4.2:** Add a drop-down menu to the \"Applicant Demographics\" section of your layout. It should have three options: \"Nationality\", \"Age\", and \"Education\". Be sure to give it the ID \"demo-plots-dropdown\"."
   ]
  },
  {
   "cell_type": "markdown",
   "metadata": {},
   "source": [
    "**Task 7.4.3:** Add a Div object below your drop-down menu. Give it the ID \"demo-plots-display\"."
   ]
  },
  {
   "cell_type": "markdown",
   "metadata": {},
   "source": [
    "**Task 7.4.4** Complete the display_demo_graph function in the `display` module. It should take input from `demo-plots-dropdown` and pass output to `demo-plots-display`. For now, it should only return an emoty Graph object."
   ]
  },
  {
   "cell_type": "markdown",
   "metadata": {},
   "source": [
    "Now that we have the interactive elements needed for our demographic charts, we need to create the components that will retrieve the data for those charts. That means we need to move to the database layer. We'll start by creating the class and method for our choropleth visualization."
   ]
  },
  {
   "cell_type": "markdown",
   "metadata": {},
   "source": [
    "**Task 7.4.5:** In the database module, create a MongoRepository class. Build your __init__ method using the docstring as a guide. To test your work, restart your kernel and rerun the cell below.👇\n",
    "\n",
    " - What's a class?\n",
    " - Write a class method in Python.\n",
    " - What's a choropleth map?"
   ]
  },
  {
   "cell_type": "code",
   "execution_count": null,
   "metadata": {},
   "outputs": [],
   "source": [
    "from database import MongoRepository\n",
    "from pymongo.collection import Collection\n",
    "\n",
    "repo = MongoRepository()\n",
    "\n",
    "# Is `MongoRepository.collection` correct type?\n",
    "assert isinstance(repo.collection, Collection)\n",
    "\n",
    "# Is repo connected to correct collection?\n",
    "collection_name = repo.collection.name\n",
    "assert collection_name == \"ds-applicants\"\n",
    "\n",
    "print(\"repo collection:\", collection_name)"
   ]
  },
  {
   "cell_type": "markdown",
   "metadata": {},
   "source": [
    "**Task 7.4.6:** Working with the code you wrote in Lesson 7.1, create a get_nationality_value_counts method for your MongoRepository. Use the docstring as a guide. To test your work, restart your kernel and run the cell below.👇"
   ]
  },
  {
   "cell_type": "markdown",
   "metadata": {},
   "source": [
    "**Task 7.4.7:** In the business module, create a GraphBuilder class. For now, it should have two methods: __init__ and build_nat_choropleth. For the former, use the docstring as a guide. For the latter, use your code from Lesson 7.1. To test your work, restart your kernel and run the cell below.👇\n",
    "\n",
    "- Write a class definition in Python.\n",
    "- Write a class method in Python."
   ]
  },
  {
   "cell_type": "markdown",
   "metadata": {},
   "source": []
  }
 ],
 "metadata": {
  "language_info": {
   "name": "python"
  }
 },
 "nbformat": 4,
 "nbformat_minor": 2
}
