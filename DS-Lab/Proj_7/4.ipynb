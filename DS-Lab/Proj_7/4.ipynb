{
 "cells": [
  {
   "cell_type": "markdown",
   "metadata": {},
   "source": [
    "**7.4. Experiment Web Application**\n",
    "\n",
    "During this project, you've made informative data visualizations, built helpful Python classes, and conducted statistical analyses. In this lesson, you're going to combine all of those elements into a single, interactive web application.\n",
    "\n",
    "This web application will be similar to the one you built in Project 6 because it will also have a three-tier architecture. But instead of writing our code in a notebook, this time we'll use .py files, like we did in Project 5.\n",
    "\n",
    "This notebook has the instructions and videos for the tasks you need to complete. You'll also launch your application from here. But all the coding will be in the files: display.py, business.py, and database.py.WQU WorldQuant University Applied Data Science Lab QQQQ"
   ]
  },
  {
   "cell_type": "code",
   "execution_count": null,
   "metadata": {},
   "outputs": [],
   "source": [
    "# Every time you want to refresh your app,\n",
    "# restart your kernel and rerun these TWO cells\n",
    "from jupyter_dash.comms import _send_jupyter_config_comm_request\n",
    "\n",
    "_send_jupyter_config_comm_request()"
   ]
  },
  {
   "cell_type": "code",
   "execution_count": null,
   "metadata": {},
   "outputs": [],
   "source": [
    "# Import `app` object from `display.py` module\n",
    "from display import app\n",
    "from jupyter_dash import JupyterDash  # noQA F401\n",
    "\n",
    "JupyterDash.infer_jupyter_proxy_config()\n",
    "\n",
    "# Start app server\n",
    "app.run_server(host=\"0.0.0.0\", mode=\"external\")"
   ]
  },
  {
   "cell_type": "markdown",
   "metadata": {},
   "source": [
    "**Application Layout**\n",
    "\n",
    "We're going to build our application using a three-tier architecture. The three .py files — or modules — represent the three layers of our application. We'll start with our display layer, where we'll keep all the elements that our user will see and interact with."
   ]
  },
  {
   "cell_type": "markdown",
   "metadata": {},
   "source": [
    "**Task 7.4.1:**   In the display module, instantiate a JupyterDash application named app. Then begin building its layout by adding three H1 headers with the titles: \"Applicant Demographics\", \"Experiment\", and \"Results\"."
   ]
  },
  {
   "cell_type": "markdown",
   "metadata": {},
   "source": [
    "**Demographic Charts**\n",
    "\n",
    "The first element in our application is the \"Applicant Demographics\" section. We'll start by building a drop-down menu that will allow the user to select which visualization they want to see."
   ]
  },
  {
   "cell_type": "markdown",
   "metadata": {},
   "source": [
    "**Task 7.4.2:** Add a drop-down menu to the \"Applicant Demographics\" section of your layout. It should have three options: \"Nationality\", \"Age\", and \"Education\". Be sure to give it the ID \"demo-plots-dropdown\"."
   ]
  },
  {
   "cell_type": "markdown",
   "metadata": {},
   "source": [
    "**Task 7.4.3:** Add a Div object below your drop-down menu. Give it the ID \"demo-plots-display\"."
   ]
  },
  {
   "cell_type": "markdown",
   "metadata": {},
   "source": [
    "**Task 7.4.4** Complete the display_demo_graph function in the `display` module. It should take input from `demo-plots-dropdown` and pass output to `demo-plots-display`. For now, it should only return an emoty Graph object."
   ]
  },
  {
   "cell_type": "markdown",
   "metadata": {},
   "source": [
    "Now that we have the interactive elements needed for our demographic charts, we need to create the components that will retrieve the data for those charts. That means we need to move to the database layer. We'll start by creating the class and method for our choropleth visualization."
   ]
  },
  {
   "cell_type": "markdown",
   "metadata": {},
   "source": [
    "**Task 7.4.5:** In the database module, create a MongoRepository class. Build your __init__ method using the docstring as a guide. To test your work, restart your kernel and rerun the cell below.👇\n",
    "\n",
    " - What's a class?\n",
    " - Write a class method in Python.\n",
    " - What's a choropleth map?"
   ]
  },
  {
   "cell_type": "code",
   "execution_count": null,
   "metadata": {},
   "outputs": [],
   "source": [
    "from database import MongoRepository\n",
    "from pymongo.collection import Collection\n",
    "\n",
    "repo = MongoRepository()\n",
    "\n",
    "# Is `MongoRepository.collection` correct type?\n",
    "assert isinstance(repo.collection, Collection)\n",
    "\n",
    "# Is repo connected to correct collection?\n",
    "collection_name = repo.collection.name\n",
    "assert collection_name == \"ds-applicants\"\n",
    "\n",
    "print(\"repo collection:\", collection_name)"
   ]
  },
  {
   "cell_type": "markdown",
   "metadata": {},
   "source": [
    "**Task 7.4.6:** Working with the code you wrote in Lesson 7.1, create a get_nationality_value_counts method for your MongoRepository. Use the docstring as a guide. To test your work, restart your kernel and run the cell below.👇"
   ]
  },
  {
   "cell_type": "markdown",
   "metadata": {},
   "source": [
    "**Task 7.4.7:** In the business module, create a GraphBuilder class. For now, it should have two methods: __init__ and build_nat_choropleth. For the former, use the docstring as a guide. For the latter, use your code from Lesson 7.1. To test your work, restart your kernel and run the cell below.👇\n",
    "\n",
    "- Write a class definition in Python.\n",
    "- Write a class method in Python."
   ]
  },
  {
   "cell_type": "markdown",
   "metadata": {},
   "source": [
    "**Task 7.4.8:** Add to your display_demo_graph function in the display module so that it uses a GraphBuilder to construct a choropleth map when \"demo-plots-dropdown\" is set to \"Nationality\".\n",
    "\n",
    "- What's a function?\n",
    "- Write a function in Python.\n",
    "- What's a choropleth map?"
   ]
  },
  {
   "cell_type": "markdown",
   "metadata": {},
   "source": [
    "**Our visualization is looking good! Now we'll repeat the process for our age histogram, adding the necessary components to each of our three layers.**\n"
   ]
  },
  {
   "cell_type": "markdown",
   "metadata": {},
   "source": [
    "**Task 7.4.9:** Repeat the process from the previous three tasks, now for the \"Age\" histogram. This means you'll need to add a get_ages method to your MongoRepository, a build_age_hist method to your GraphBuilder, and adjust your display_demo_graph function in the display module. To test your work, restart your kernel and run the cells below.👇\n",
    "\n",
    "- Write a class method in Python.\n",
    "- Create a histogram using plotly express."
   ]
  },
  {
   "cell_type": "code",
   "execution_count": null,
   "metadata": {},
   "outputs": [],
   "source": [
    "import pandas as pd\n",
    "from database import MongoRepository\n",
    "\n",
    "repo = MongoRepository()\n",
    "# Does `MongoRepository.get_ages` return a Series?\n",
    "ages = repo.get_ages()\n",
    "assert isinstance(ages, pd.Series)\n",
    "ages.head()"
   ]
  },
  {
   "cell_type": "code",
   "execution_count": null,
   "metadata": {},
   "outputs": [],
   "source": [
    "from business import GraphBuilder\n",
    "from plotly.graph_objects import Figure\n",
    "\n",
    "gb = GraphBuilder()\n",
    "\n",
    "# Does `GraphBuilder.build_nat_choropleth` return a Figure?\n",
    "fig = gb.build_age_hist()\n",
    "assert isinstance(fig, Figure)\n",
    "fig.show()"
   ]
  },
  {
   "cell_type": "markdown",
   "metadata": {},
   "source": [
    "**Task 7.4.10:** Repeat the process, now for the \"Education\" bar chart. You'll need to add a get_ed_value_counts method to your MongoRepository, a build_ed_bar method to your GraphBuilder, and adjust your display_demo_graph function in the display module. To test your work, restart your kernel and run the cells below.👇\n",
    "\n",
    "- Write a class method in Python.\n",
    "- Create a bar chart using plotly express."
   ]
  },
  {
   "cell_type": "code",
   "execution_count": null,
   "metadata": {},
   "outputs": [],
   "source": [
    "import pandas as pd\n",
    "from database import MongoRepository\n",
    "\n",
    "# Test  method\n",
    "repo = MongoRepository()\n",
    "\n",
    "# Does `MongoRepository.get_ed_value_counts` return a Series?\n",
    "degrees = repo.get_ed_value_counts(normalize=False)\n",
    "assert isinstance(degrees, pd.Series)\n",
    "\n",
    "# Is Series index ordered correctly?\n",
    "assert degrees.index.tolist() == [\n",
    "    \"High School or Baccalaureate\",\n",
    "    \"Some College (1-3 years)\",\n",
    "    \"Bachelor's degree\",\n",
    "    \"Master's degree\",\n",
    "    \"Doctorate (e.g. PhD)\",\n",
    "]\n",
    "\n",
    "degrees"
   ]
  },
  {
   "cell_type": "code",
   "execution_count": null,
   "metadata": {},
   "outputs": [],
   "source": [
    "from business import GraphBuilder\n",
    "from plotly.graph_objects import Figure\n",
    "\n",
    "gb = GraphBuilder()\n",
    "\n",
    "# Does `GraphBuilder.build_ed_bar` return a Figure?\n",
    "fig = gb.build_ed_bar()\n",
    "assert isinstance(fig, Figure)\n",
    "fig.show()"
   ]
  },
  {
   "cell_type": "markdown",
   "metadata": {},
   "source": [
    "**Experiment**\n"
   ]
  },
  {
   "cell_type": "markdown",
   "metadata": {},
   "source": [
    "The \"Experiment\" section of our application will have two elements: A slider that will allow the user to select the effect size they want to detect, and another slider for the number of days they want the experiment to run.\n",
    "\n",
    "**Effect Size Slider**\n"
   ]
  },
  {
   "cell_type": "markdown",
   "metadata": {},
   "source": [
    "Our effect size slider will need components in the display and business layers."
   ]
  },
  {
   "cell_type": "markdown",
   "metadata": {},
   "source": [
    "**Task 7.4.11:** Add a Slider object to the \"Experiment\" section of your app layout, followed by a Div object. Their IDs should be \"effect-size-slider\" and \"effect-size-display\", respectively."
   ]
  },
  {
   "cell_type": "markdown",
   "metadata": {},
   "source": [
    "**Task 7.4.12:** Create a StatsBuilder class in the business module. It should have two methods for now: __init__ and calculate_n_obs. For the latter, use your code from Lesson 7.3.\n",
    "\n",
    "- Write a class definition in Python.\n",
    "- Write a class method in Python."
   ]
  },
  {
   "cell_type": "code",
   "execution_count": null,
   "metadata": {},
   "outputs": [],
   "source": [
    "from business import StatsBuilder\n",
    "from database import MongoRepository\n",
    "\n",
    "sb = StatsBuilder()\n",
    "\n",
    "# Is `StatsBuilder.repo` the correct data type?\n",
    "assert isinstance(sb.repo, MongoRepository)\n",
    "sb.repo.collection.name"
   ]
  },
  {
   "cell_type": "code",
   "execution_count": null,
   "metadata": {},
   "outputs": [],
   "source": [
    "from business import StatsBuilder\n",
    "\n",
    "# Does `StatsBuilder.calculate_n_obs` return an int?\n",
    "n_obs = sb.calculate_n_obs(effect_size=0.2)\n",
    "assert isinstance(n_obs, int)\n",
    "\n",
    "# Does `StatsBuilder.calculate_n_obs` return correct number?\n",
    "assert n_obs == 394\n",
    "print(\"# observations for effect size of 0.2:\", n_obs)"
   ]
  },
  {
   "cell_type": "markdown",
   "metadata": {},
   "source": [
    "**Task 7.4.13:** Create a display_group_size function in the display module. It should take input from \"effect-size-slider\", use your StatsBuilder to calculate group size, and send its output to \"effect-size-display\".\n",
    "\n",
    "- What's a function?\n",
    "- Write a function in Python."
   ]
  },
  {
   "cell_type": "markdown",
   "metadata": {},
   "source": []
  }
 ],
 "metadata": {
  "language_info": {
   "name": "python"
  }
 },
 "nbformat": 4,
 "nbformat_minor": 2
}
